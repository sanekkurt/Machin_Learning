{
 "cells": [
  {
   "cell_type": "code",
   "execution_count": 0,
   "metadata": {
    "colab": {},
    "colab_type": "code",
    "id": "dI---FmNiB93"
   },
   "outputs": [],
   "source": [
    "import numpy as np\n",
    "from collections import Counter\n",
    "\n",
    "\n",
    "def entropy(y):\n",
    "    hist = np.bincount(y)  ## [1, 5, 3, 6] -> [0,1,0,1,0,1,1]\n",
    "    ps = hist / len(y)  ## probability\n",
    "    return -np.sum([p * np.log2(p) for p in ps if p > 0])\n",
    "\n",
    "\n",
    "class Node:\n",
    "\n",
    "    def __init__(self, feature=None, threshold=None, left=None, right=None, \n",
    "                 value=None, info_gain=None, n_samples=None, uniq_vals=None,\n",
    "                 entropy = None):\n",
    "        self.feature = feature\n",
    "        self.threshold = threshold\n",
    "        self.left = left\n",
    "        self.right = right\n",
    "        self.value = value\n",
    "        self.info_gain = info_gain\n",
    "        self.n_samples = n_samples\n",
    "        self.uniq_vals = uniq_vals\n",
    "        self.entropy = entropy\n",
    "\n",
    "\n",
    "    def is_leaf_node(self):\n",
    "        return self.value is not None\n",
    "\n",
    "\n",
    "class DecisionTree:\n",
    "\n",
    "    def __init__(self, min_samples_split=2, max_depth=100, n_feats=None):\n",
    "        self.min_samples_split = min_samples_split\n",
    "        self.max_depth = max_depth\n",
    "        self.n_feats = n_feats\n",
    "        self.root = None\n",
    "\n",
    "    def fit(self, X, y):\n",
    "        self.n_feats = X.shape[1] if not self.n_feats else min(self.n_feats, X.shape[1])\n",
    "        self.root = self._grow_tree(X, y)\n",
    "\n",
    "    def predict(self, X):\n",
    "        return np.array([self._move_tree(x, self.root) for x in X])\n",
    "\n",
    "    def _grow_tree(self, X, y, depth=0):\n",
    "        n_samples, n_features = X.shape\n",
    "        n_labels = len(np.unique(y))\n",
    "\n",
    "        # stopping criteria\n",
    "        if (depth >= self.max_depth\n",
    "                or n_labels == 1\n",
    "                or n_samples < self.min_samples_split):\n",
    "            leaf_value = self._most_common_label(y)\n",
    "            return Node(value=leaf_value, n_samples=n_samples, uniq_vals=n_labels, \n",
    "                        entropy=entropy(y))\n",
    "\n",
    "        feat_idxs = np.random.choice(n_features, self.n_feats, replace=False)\n",
    "\n",
    "        # greedily select the best split according to information gain\n",
    "        best_feat, best_thresh, best_gain = self._best_criteria(X, y, feat_idxs)\n",
    "        \n",
    "        # grow the children that result from the split\n",
    "        left_idxs, right_idxs = self._split(X[:, best_feat], best_thresh)\n",
    "        left = self._grow_tree(X[left_idxs, :], y[left_idxs], depth+1)\n",
    "        right = self._grow_tree(X[right_idxs, :], y[right_idxs], depth+1)\n",
    "        return Node(best_feat, best_thresh, left, right, info_gain = best_gain, \n",
    "                    n_samples = n_samples, uniq_vals = n_labels, entropy=entropy(y))\n",
    "\n",
    "    def _best_criteria(self, X, y, feat_idxs):\n",
    "        best_gain = -1\n",
    "        split_idx, split_thresh = None, None\n",
    "        for feat_idx in feat_idxs:\n",
    "            X_column = X[:, feat_idx]\n",
    "            thresholds = np.unique(X_column)\n",
    "            for threshold in thresholds:\n",
    "                gain= self._information_gain(y, X_column, threshold)\n",
    "\n",
    "                if gain > best_gain:\n",
    "                    best_gain = gain\n",
    "                    split_idx = feat_idx\n",
    "                    split_thresh = threshold\n",
    "\n",
    "        return split_idx, split_thresh, best_gain\n",
    "\n",
    "    def _information_gain(self, y, X_column, split_thresh):\n",
    "        parent_entropy = entropy(y)\n",
    "\n",
    "        left_idxs, right_idxs = self._split(X_column, split_thresh)\n",
    "\n",
    "        if len(left_idxs) == 0 or len(right_idxs) == 0:\n",
    "            return 0\n",
    "\n",
    "        # compute the weighted avg. of the loss for the children\n",
    "        n = len(y)\n",
    "        n_l, n_r = len(left_idxs), len(right_idxs)\n",
    "        e_l, e_r = entropy(y[left_idxs]), entropy(y[right_idxs])\n",
    "        child_entropy = (n_l / n) * e_l + (n_r / n) * e_r\n",
    "\n",
    "        # information gain is difference in loss before vs. after split\n",
    "        ig = parent_entropy - child_entropy\n",
    "        return ig\n",
    "\n",
    "    def _split(self, X_column, split_thresh):\n",
    "        left_idxs = np.argwhere(X_column <= split_thresh).flatten()\n",
    "        right_idxs = np.argwhere(X_column > split_thresh).flatten()\n",
    "        return left_idxs, right_idxs\n",
    "\n",
    "    def _move_tree(self, x, node):\n",
    "        if node.is_leaf_node():\n",
    "            return node.value\n",
    "\n",
    "        if x[node.feature] <= node.threshold:\n",
    "            return self._move_tree(x, node.left)\n",
    "        return self._move_tree(x, node.right)\n",
    "\n",
    "    def _most_common_label(self, y):\n",
    "        counter = Counter(y)\n",
    "        most_common = counter.most_common(1)[0][0]\n",
    "        return most_common"
   ]
  },
  {
   "cell_type": "code",
   "execution_count": 11,
   "metadata": {
    "colab": {
     "base_uri": "https://localhost:8080/",
     "height": 70
    },
    "colab_type": "code",
    "id": "hEZAM198eqRC",
    "outputId": "0e294f1e-5036-4943-dfa8-28578c2621a8"
   },
   "outputs": [
    {
     "data": {
      "text/plain": [
       "array([0.        , 0.28571429, 0.14285714, 0.14285714, 0.        ,\n",
       "       0.14285714, 0.14285714, 0.        , 0.        , 0.        ,\n",
       "       0.14285714])"
      ]
     },
     "execution_count": 11,
     "metadata": {
      "tags": []
     },
     "output_type": "execute_result"
    }
   ],
   "source": [
    "np.bincount(np.array([1,5,6,3,2,1,10])) /7"
   ]
  },
  {
   "cell_type": "code",
   "execution_count": 27,
   "metadata": {
    "colab": {
     "base_uri": "https://localhost:8080/",
     "height": 282
    },
    "colab_type": "code",
    "id": "zYakXqeO2ZSr",
    "outputId": "8c5c533d-86fc-4f1d-c0c0-7126cb5b83c5"
   },
   "outputs": [
    {
     "data": {
      "text/plain": [
       "<matplotlib.collections.PathCollection at 0x7f81504f85f8>"
      ]
     },
     "execution_count": 27,
     "metadata": {
      "tags": []
     },
     "output_type": "execute_result"
    },
    {
     "data": {
      "image/png": "[encoded data removed]",
      "text/plain": [
       "<Figure size 432x288 with 1 Axes>"
      ]
     },
     "metadata": {
      "tags": []
     },
     "output_type": "display_data"
    }
   ],
   "source": [
    "from sklearn.datasets import make_blobs, make_moons\n",
    "from sklearn.model_selection import train_test_split\n",
    "from sklearn.metrics import accuracy_score\n",
    "import matplotlib.pyplot as plt\n",
    "import numpy as np\n",
    "%matplotlib inline\n",
    "\n",
    "x_blobs, y_blobs = make_moons(n_samples=500, noise=0.1)\n",
    "plt.scatter(x_blobs[:,0], x_blobs[:,1], c = y_blobs)"
   ]
  },
  {
   "cell_type": "code",
   "execution_count": 28,
   "metadata": {
    "colab": {
     "base_uri": "https://localhost:8080/",
     "height": 34
    },
    "colab_type": "code",
    "id": "rouAOuTJ7ied",
    "outputId": "2946d137-cd89-4d3f-beff-e52b8b0f0e63"
   },
   "outputs": [
    {
     "data": {
      "text/plain": [
       "0.984"
      ]
     },
     "execution_count": 28,
     "metadata": {
      "tags": []
     },
     "output_type": "execute_result"
    }
   ],
   "source": [
    "X_train_blobs, X_test_blobs, y_train_blobs, y_test_blobs = train_test_split(x_blobs, y_blobs)\n",
    "tree = DecisionTree(max_depth = 10, min_samples_split=1)\n",
    "tree.fit(X_train_blobs, y_train_blobs)\n",
    "res = tree.predict(X_test_blobs)\n",
    "accuracy_score(y_test_blobs, res)"
   ]
  },
  {
   "cell_type": "code",
   "execution_count": 0,
   "metadata": {
    "colab": {},
    "colab_type": "code",
    "id": "hAyF5zsnAWzP"
   },
   "outputs": [],
   "source": [
    "def build_tree(node_tree):\n",
    "    dict_tree = dict()\n",
    "    if node_tree.left == None:\n",
    "        return {'leaf_value':node_tree.value, 'n_samples':node_tree.n_samples,\n",
    "                'uniq_vals':node_tree.uniq_vals, 'entropy':node_tree.entropy}\n",
    "    if node_tree.right == None:\n",
    "        return {'leaf_value':node_tree.value, 'n_samples':node_tree.n_samples,\n",
    "                'uniq_vals':node_tree.uniq_vals, 'entropy':node_tree.entropy}\n",
    "    dict_tree = {'feature':node_tree.feature, 'n_samples':node_tree.n_samples,\n",
    "                 'threshold':node_tree.threshold, 'uniq_vals':node_tree.uniq_vals,\n",
    "                 'info_gain':node_tree.info_gain, 'entropy':node_tree.entropy}\n",
    "    dict_tree['left'] = build_tree(node_tree.left)\n",
    "    dict_tree['right'] = build_tree(node_tree.right)\n",
    "    return dict_tree"
   ]
  },
  {
   "cell_type": "code",
   "execution_count": 32,
   "metadata": {
    "colab": {
     "base_uri": "https://localhost:8080/",
     "height": 34
    },
    "colab_type": "code",
    "id": "dDSuvBSWlbBp",
    "outputId": "5833ae74-5851-447c-be37-7e5065422547"
   },
   "outputs": [
    {
     "data": {
      "text/plain": [
       "375"
      ]
     },
     "execution_count": 32,
     "metadata": {
      "tags": []
     },
     "output_type": "execute_result"
    }
   ],
   "source": [
    "len(X_train_blobs)"
   ]
  },
  {
   "cell_type": "code",
   "execution_count": 31,
   "metadata": {
    "colab": {
     "base_uri": "https://localhost:8080/",
     "height": 1000
    },
    "colab_type": "code",
    "id": "Cv3PdFDwI9zb",
    "outputId": "9f83dc16-6a86-4de1-d805-1971656668ba"
   },
   "outputs": [
    {
     "name": "stdout",
     "output_type": "stream",
     "text": [
      "{'entropy': 0.9981474276634434,\n",
      " 'feature': 1,\n",
      " 'info_gain': 0.4396544441278273,\n",
      " 'left': {'entropy': 0.7855602922535472,\n",
      "          'feature': 0,\n",
      "          'info_gain': 0.29830955116544977,\n",
      "          'left': {'entropy': -0.0,\n",
      "                   'leaf_value': 0,\n",
      "                   'n_samples': 31,\n",
      "                   'uniq_vals': 1},\n",
      "          'n_samples': 256,\n",
      "          'right': {'entropy': 0.5543830654157909,\n",
      "                    'feature': 1,\n",
      "                    'info_gain': 0.16610168410296777,\n",
      "                    'left': {'entropy': -0.0,\n",
      "                             'leaf_value': 1,\n",
      "                             'n_samples': 124,\n",
      "                             'uniq_vals': 1},\n",
      "                    'n_samples': 225,\n",
      "                    'right': {'entropy': 0.8649832752018336,\n",
      "                              'feature': 0,\n",
      "                              'info_gain': 0.27140009445115654,\n",
      "                              'left': {'entropy': 0.9991983542636398,\n",
      "                                       'feature': 0,\n",
      "                                       'info_gain': 0.9991983542636398,\n",
      "                                       'left': {'entropy': -0.0,\n",
      "                                                'leaf_value': 1,\n",
      "                                                'n_samples': 31,\n",
      "                                                'uniq_vals': 1},\n",
      "                                       'n_samples': 60,\n",
      "                                       'right': {'entropy': -0.0,\n",
      "                                                 'leaf_value': 0,\n",
      "                                                 'n_samples': 29,\n",
      "                                                 'uniq_vals': 1},\n",
      "                                       'threshold': 0.39144912424505374,\n",
      "                                       'uniq_vals': 2},\n",
      "                              'n_samples': 101,\n",
      "                              'right': {'entropy': -0.0,\n",
      "                                        'leaf_value': 1,\n",
      "                                        'n_samples': 41,\n",
      "                                        'uniq_vals': 1},\n",
      "                              'threshold': 1.197752068964653,\n",
      "                              'uniq_vals': 2},\n",
      "                    'threshold': -0.07380652133669802,\n",
      "                    'uniq_vals': 2},\n",
      "          'threshold': -0.7204470518915115,\n",
      "          'uniq_vals': 2},\n",
      " 'n_samples': 375,\n",
      " 'right': {'entropy': 0.07001205049536138,\n",
      "           'feature': 1,\n",
      "           'info_gain': 0.02390391351001879,\n",
      "           'left': {'entropy': 0.3227569588973982,\n",
      "                    'feature': 1,\n",
      "                    'info_gain': 0.3227569588973982,\n",
      "                    'left': {'entropy': -0.0,\n",
      "                             'leaf_value': 0,\n",
      "                             'n_samples': 16,\n",
      "                             'uniq_vals': 1},\n",
      "                    'n_samples': 17,\n",
      "                    'right': {'entropy': -0.0,\n",
      "                              'leaf_value': 1,\n",
      "                              'n_samples': 1,\n",
      "                              'uniq_vals': 1},\n",
      "                    'threshold': 0.635056367890011,\n",
      "                    'uniq_vals': 2},\n",
      "           'n_samples': 119,\n",
      "           'right': {'entropy': -0.0,\n",
      "                     'leaf_value': 0,\n",
      "                     'n_samples': 102,\n",
      "                     'uniq_vals': 1},\n",
      "           'threshold': 0.63605277160474,\n",
      "           'uniq_vals': 2},\n",
      " 'threshold': 0.5283061119260508,\n",
      " 'uniq_vals': 2}\n"
     ]
    }
   ],
   "source": [
    "from pprint import pprint\n",
    "\n",
    "pprint(build_tree(tree.root))"
   ]
  },
  {
   "cell_type": "code",
   "execution_count": 33,
   "metadata": {
    "colab": {
     "base_uri": "https://localhost:8080/",
     "height": 34
    },
    "colab_type": "code",
    "id": "VOotnDX69t4T",
    "outputId": "1ad0bd03-ffb1-489d-d918-f0a55487655a"
   },
   "outputs": [
    {
     "data": {
      "text/plain": [
       "0.968"
      ]
     },
     "execution_count": 33,
     "metadata": {
      "tags": []
     },
     "output_type": "execute_result"
    }
   ],
   "source": [
    "from sklearn.tree import DecisionTreeClassifier\n",
    "\n",
    "dec_tree_clf = DecisionTreeClassifier(max_depth = 10)\n",
    "dec_tree_clf.fit(X_train_blobs, y_train_blobs)\n",
    "res_dec_tree = dec_tree_clf.predict(X_test_blobs)\n",
    "accuracy_score(y_test_blobs, res_dec_tree)"
   ]
  },
  {
   "cell_type": "code",
   "execution_count": 0,
   "metadata": {
    "colab": {},
    "colab_type": "code",
    "id": "PKYaWMjY9uF3"
   },
   "outputs": [],
   "source": []
  }
 ],
 "metadata": {
  "colab": {
   "name": "Decision_tree_part2.ipynb",
   "provenance": []
  },
  "kernelspec": {
   "display_name": "Python 3",
   "language": "python",
   "name": "python3"
  },
  "language_info": {
   "codemirror_mode": {
    "name": "ipython",
    "version": 3
   },
   "file_extension": ".py",
   "mimetype": "text/x-python",
   "name": "python",
   "nbconvert_exporter": "python",
   "pygments_lexer": "ipython3",
   "version": "3.7.3"
  }
 },
 "nbformat": 4,
 "nbformat_minor": 1
}
