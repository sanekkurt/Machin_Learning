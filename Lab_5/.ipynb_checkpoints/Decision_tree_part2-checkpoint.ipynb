{
 "cells": [
  {
   "cell_type": "code",
   "execution_count": 0,
   "metadata": {
    "colab": {},
    "colab_type": "code",
    "id": "oeMAHCLCrC5T"
   },
   "outputs": [],
   "source": [
    "import numpy as np\n",
    "from collections import Counter\n",
    "\n",
    "\n",
    "def entropy(y):\n",
    "    hist = np.bincount(y)\n",
    "    ps = hist / len(y)\n",
    "    return -np.sum([p * np.log2(p) for p in ps if p > 0])\n",
    "\n",
    "\n",
    "class Node:\n",
    "\n",
    "    def __init__(self, feature=None, threshold=None, left=None, right=None, \n",
    "                 value=None, info_gain=None, n_samples=None, uniq_vals=None,\n",
    "                 entropy = None):\n",
    "        self.feature = feature\n",
    "        self.threshold = threshold\n",
    "        self.left = left\n",
    "        self.right = right\n",
    "        self.value = value\n",
    "        self.info_gain = info_gain\n",
    "        self.n_samples = n_samples\n",
    "        self.uniq_vals = uniq_vals\n",
    "        self.entropy = entropy\n",
    "\n",
    "\n",
    "    def is_leaf_node(self):\n",
    "        return self.value is not None\n",
    "\n",
    "\n",
    "class DecisionTree:\n",
    "\n",
    "    def __init__(self, min_samples_split=2, max_depth=100, n_feats=None):\n",
    "        self.min_samples_split = min_samples_split\n",
    "        self.max_depth = max_depth\n",
    "        self.n_feats = n_feats\n",
    "        self.root = None\n",
    "\n",
    "    def fit(self, X, y):\n",
    "        self.n_feats = X.shape[1] if not self.n_feats else min(self.n_feats, X.shape[1])\n",
    "        self.root = self._grow_tree(X, y)\n",
    "\n",
    "    def predict(self, X):\n",
    "        return np.array([self._traverse_tree(x, self.root) for x in X])\n",
    "\n",
    "    def _grow_tree(self, X, y, depth=0):\n",
    "        n_samples, n_features = X.shape\n",
    "        n_labels = len(np.unique(y))\n",
    "\n",
    "        # stopping criteria\n",
    "        if (depth >= self.max_depth\n",
    "                or n_labels == 1\n",
    "                or n_samples < self.min_samples_split):\n",
    "            leaf_value = self._most_common_label(y)\n",
    "            return Node(value=leaf_value, n_samples=n_samples, uniq_vals=n_labels, \n",
    "                        entropy=entropy(y))\n",
    "\n",
    "        feat_idxs = np.random.choice(n_features, self.n_feats, replace=False)\n",
    "\n",
    "        # greedily select the best split according to information gain\n",
    "        best_feat, best_thresh, best_gain = self._best_criteria(X, y, feat_idxs)\n",
    "        \n",
    "        # grow the children that result from the split\n",
    "        left_idxs, right_idxs = self._split(X[:, best_feat], best_thresh)\n",
    "        left = self._grow_tree(X[left_idxs, :], y[left_idxs], depth+1)\n",
    "        right = self._grow_tree(X[right_idxs, :], y[right_idxs], depth+1)\n",
    "        return Node(best_feat, best_thresh, left, right, info_gain = best_gain, \n",
    "                    n_samples = n_samples, uniq_vals = n_labels, entropy=entropy(y))\n",
    "\n",
    "    def _best_criteria(self, X, y, feat_idxs):\n",
    "        best_gain = -1\n",
    "        split_idx, split_thresh = None, None\n",
    "        for feat_idx in feat_idxs:\n",
    "            X_column = X[:, feat_idx]\n",
    "            thresholds = np.unique(X_column)\n",
    "            for threshold in thresholds:\n",
    "                gain= self._information_gain(y, X_column, threshold)\n",
    "\n",
    "                if gain > best_gain:\n",
    "                    best_gain = gain\n",
    "                    split_idx = feat_idx\n",
    "                    split_thresh = threshold\n",
    "\n",
    "        return split_idx, split_thresh, best_gain\n",
    "\n",
    "    def _information_gain(self, y, X_column, split_thresh):\n",
    "        # parent loss\n",
    "        parent_entropy = entropy(y)\n",
    "\n",
    "        # generate split\n",
    "        left_idxs, right_idxs = self._split(X_column, split_thresh)\n",
    "\n",
    "        if len(left_idxs) == 0 or len(right_idxs) == 0:\n",
    "            return 0\n",
    "\n",
    "        # compute the weighted avg. of the loss for the children\n",
    "        n = len(y)\n",
    "        n_l, n_r = len(left_idxs), len(right_idxs)\n",
    "        e_l, e_r = entropy(y[left_idxs]), entropy(y[right_idxs])\n",
    "        child_entropy = (n_l / n) * e_l + (n_r / n) * e_r\n",
    "\n",
    "        # information gain is difference in loss before vs. after split\n",
    "        ig = parent_entropy - child_entropy\n",
    "        return ig\n",
    "\n",
    "    def _split(self, X_column, split_thresh):\n",
    "        left_idxs = np.argwhere(X_column <= split_thresh).flatten()\n",
    "        right_idxs = np.argwhere(X_column > split_thresh).flatten()\n",
    "        return left_idxs, right_idxs\n",
    "\n",
    "    def _traverse_tree(self, x, node):\n",
    "        if node.is_leaf_node():\n",
    "            return node.value\n",
    "\n",
    "        if x[node.feature] <= node.threshold:\n",
    "            return self._traverse_tree(x, node.left)\n",
    "        return self._traverse_tree(x, node.right)\n",
    "\n",
    "    def _most_common_label(self, y):\n",
    "        counter = Counter(y)\n",
    "        most_common = counter.most_common(1)[0][0]\n",
    "        return most_common"
   ]
  },
  {
   "cell_type": "code",
   "execution_count": 0,
   "metadata": {
    "colab": {
     "base_uri": "https://localhost:8080/",
     "height": 281
    },
    "colab_type": "code",
    "id": "zYakXqeO2ZSr",
    "outputId": "217d92c5-f8f3-4e16-f258-28088ee88beb"
   },
   "outputs": [
    {
     "data": {
      "text/plain": [
       "<matplotlib.collections.PathCollection at 0x7f5bb9a74f60>"
      ]
     },
     "execution_count": 174,
     "metadata": {
      "tags": []
     },
     "output_type": "execute_result"
    },
    {
     "data": {
      "image/png": "[encoded data removed]",
      "text/plain": [
       "<Figure size 432x288 with 1 Axes>"
      ]
     },
     "metadata": {
      "tags": []
     },
     "output_type": "display_data"
    }
   ],
   "source": [
    "from sklearn.datasets import make_blobs, make_moons\n",
    "import matplotlib.pyplot as plt\n",
    "import numpy as np\n",
    "%matplotlib inline\n",
    "\n",
    "x_blobs, y_blobs = make_moons(n_samples=500, noise=0.1)\n",
    "plt.scatter(x_blobs[:,0], x_blobs[:,1], c = y_blobs)"
   ]
  },
  {
   "cell_type": "code",
   "execution_count": 0,
   "metadata": {
    "colab": {
     "base_uri": "https://localhost:8080/",
     "height": 33
    },
    "colab_type": "code",
    "id": "rouAOuTJ7ied",
    "outputId": "7ad48058-070e-4782-c8a3-e726e5252cc6"
   },
   "outputs": [
    {
     "data": {
      "text/plain": [
       "0.976"
      ]
     },
     "execution_count": 177,
     "metadata": {
      "tags": []
     },
     "output_type": "execute_result"
    }
   ],
   "source": [
    "X_train_blobs, X_test_blobs, y_train_blobs, y_test_blobs = train_test_split(x_blobs, y_blobs)\n",
    "tree = DecisionTree(max_depth = 10, min_samples_split=1)\n",
    "tree.fit(X_train_blobs, y_train_blobs)\n",
    "res = tree.predict(X_test_blobs)\n",
    "accuracy_score(y_test_blobs, res)"
   ]
  },
  {
   "cell_type": "code",
   "execution_count": 0,
   "metadata": {
    "colab": {},
    "colab_type": "code",
    "id": "hAyF5zsnAWzP"
   },
   "outputs": [],
   "source": [
    "def build_tree(node_tree):\n",
    "    dict_tree = dict()\n",
    "    if node_tree.left == None:\n",
    "        return {'leaf_value':node_tree.value, 'n_samples':node_tree.n_samples,\n",
    "                'uniq_vals':node_tree.uniq_vals, 'entropy':node_tree.entropy}\n",
    "    if node_tree.right == None:\n",
    "        return {'leaf_value':node_tree.value, 'n_samples':node_tree.n_samples,\n",
    "                'uniq_vals':node_tree.uniq_vals, 'entropy':node_tree.entropy}\n",
    "    dict_tree = {'feature':node_tree.feature, 'n_samples':node_tree.n_samples,\n",
    "                 'threshold':node_tree.threshold, 'uniq_vals':node_tree.uniq_vals,\n",
    "                 'info_gain':node_tree.info_gain, 'entropy':node_tree.entropy}\n",
    "    dict_tree['left'] = build_tree(node_tree.left)\n",
    "    dict_tree['right'] = build_tree(node_tree.right)\n",
    "    return dict_tree"
   ]
  },
  {
   "cell_type": "code",
   "execution_count": 0,
   "metadata": {
    "colab": {
     "base_uri": "https://localhost:8080/",
     "height": 1000
    },
    "colab_type": "code",
    "id": "Cv3PdFDwI9zb",
    "outputId": "5c705307-47c5-4c0f-cad8-0ba4215280db"
   },
   "outputs": [
    {
     "name": "stdout",
     "output_type": "stream",
     "text": [
      "{'entropy': 0.9991329268596087,\n",
      " 'feature': 1,\n",
      " 'info_gain': 0.4325544499525791,\n",
      " 'left': {'entropy': 0.7763951396521734,\n",
      "          'feature': 0,\n",
      "          'info_gain': 0.29748373595208855,\n",
      "          'left': {'entropy': -0.0,\n",
      "                   'leaf_value': 0,\n",
      "                   'n_samples': 27,\n",
      "                   'uniq_vals': 1},\n",
      "          'n_samples': 227,\n",
      "          'right': {'entropy': 0.5435644431995964,\n",
      "                    'feature': 1,\n",
      "                    'info_gain': 0.16234509014138992,\n",
      "                    'left': {'entropy': -0.0,\n",
      "                             'leaf_value': 1,\n",
      "                             'n_samples': 111,\n",
      "                             'uniq_vals': 1},\n",
      "                    'n_samples': 200,\n",
      "                    'right': {'entropy': 0.8566727035015875,\n",
      "                              'feature': 0,\n",
      "                              'info_gain': 0.2326796105929968,\n",
      "                              'left': {'entropy': -0.0,\n",
      "                                       'leaf_value': 1,\n",
      "                                       'n_samples': 33,\n",
      "                                       'uniq_vals': 1},\n",
      "                              'n_samples': 89,\n",
      "                              'right': {'entropy': 0.9917033083725818,\n",
      "                                        'feature': 0,\n",
      "                                        'info_gain': 0.9917033083725818,\n",
      "                                        'left': {'entropy': -0.0,\n",
      "                                                 'leaf_value': 0,\n",
      "                                                 'n_samples': 25,\n",
      "                                                 'uniq_vals': 1},\n",
      "                                        'n_samples': 56,\n",
      "                                        'right': {'entropy': -0.0,\n",
      "                                                  'leaf_value': 1,\n",
      "                                                  'n_samples': 31,\n",
      "                                                  'uniq_vals': 1},\n",
      "                                        'threshold': 1.1688086408601737,\n",
      "                                        'uniq_vals': 2},\n",
      "                              'threshold': 0.3565256343120391,\n",
      "                              'uniq_vals': 2},\n",
      "                    'threshold': -0.1198472830374174,\n",
      "                    'uniq_vals': 2},\n",
      "          'threshold': -0.7526527882136299,\n",
      "          'uniq_vals': 2},\n",
      " 'n_samples': 375,\n",
      " 'right': {'entropy': 0.2447650820208972,\n",
      "           'feature': 0,\n",
      "           'info_gain': 0.10241481458618651,\n",
      "           'left': {'entropy': 0.14529544538163575,\n",
      "                    'feature': 1,\n",
      "                    'info_gain': 0.052780823449265865,\n",
      "                    'left': {'entropy': 0.5159469300074474,\n",
      "                             'feature': 1,\n",
      "                             'info_gain': 0.12923617019756972,\n",
      "                             'left': {'entropy': 0.4021791902022728,\n",
      "                                      'feature': 0,\n",
      "                                      'info_gain': 0.09016842781106282,\n",
      "                                      'left': {'entropy': 0.6500224216483541,\n",
      "                                               'feature': 0,\n",
      "                                               'info_gain': 0.6500224216483541,\n",
      "                                               'left': {'entropy': -0.0,\n",
      "                                                        'leaf_value': 0,\n",
      "                                                        'n_samples': 10,\n",
      "                                                        'uniq_vals': 1},\n",
      "                                               'n_samples': 12,\n",
      "                                               'right': {'entropy': -0.0,\n",
      "                                                         'leaf_value': 1,\n",
      "                                                         'n_samples': 2,\n",
      "                                                         'uniq_vals': 1},\n",
      "                                               'threshold': -0.6070264126126323,\n",
      "                                               'uniq_vals': 2},\n",
      "                                      'n_samples': 25,\n",
      "                                      'right': {'entropy': -0.0,\n",
      "                                                'leaf_value': 0,\n",
      "                                                'n_samples': 13,\n",
      "                                                'uniq_vals': 1},\n",
      "                                      'threshold': 0.030450072292745062,\n",
      "                                      'uniq_vals': 2},\n",
      "                             'n_samples': 26,\n",
      "                             'right': {'entropy': -0.0,\n",
      "                                       'leaf_value': 1,\n",
      "                                       'n_samples': 1,\n",
      "                                       'uniq_vals': 1},\n",
      "                             'threshold': 0.5802701709257374,\n",
      "                             'uniq_vals': 2},\n",
      "                    'n_samples': 145,\n",
      "                    'right': {'entropy': -0.0,\n",
      "                              'leaf_value': 0,\n",
      "                              'n_samples': 119,\n",
      "                              'uniq_vals': 1},\n",
      "                    'threshold': 0.5824401500716392,\n",
      "                    'uniq_vals': 2},\n",
      "           'n_samples': 148,\n",
      "           'right': {'entropy': -0.0,\n",
      "                     'leaf_value': 1,\n",
      "                     'n_samples': 3,\n",
      "                     'uniq_vals': 1},\n",
      "           'threshold': 1.0216713007026352,\n",
      "           'uniq_vals': 2},\n",
      " 'threshold': 0.407660802445538,\n",
      " 'uniq_vals': 2}\n"
     ]
    }
   ],
   "source": [
    "from pprint import pprint\n",
    "\n",
    "pprint(build_tree(tree.root))"
   ]
  },
  {
   "cell_type": "code",
   "execution_count": 0,
   "metadata": {
    "colab": {
     "base_uri": "https://localhost:8080/",
     "height": 33
    },
    "colab_type": "code",
    "id": "VOotnDX69t4T",
    "outputId": "9cab40d3-207f-4602-e768-8b453e000115"
   },
   "outputs": [
    {
     "data": {
      "text/plain": [
       "0.976"
      ]
     },
     "execution_count": 55,
     "metadata": {
      "tags": []
     },
     "output_type": "execute_result"
    }
   ],
   "source": [
    "from sklearn.tree import DecisionTreeClassifier\n",
    "\n",
    "dec_tree_clf = DecisionTreeClassifier(max_depth = 10)\n",
    "dec_tree_clf.fit(X_train_blobs, y_train_blobs)\n",
    "res_dec_tree = dec_tree_clf.predict(X_test_blobs)\n",
    "accuracy_score(y_test_blobs, res_dec_tree)"
   ]
  },
  {
   "cell_type": "code",
   "execution_count": 0,
   "metadata": {
    "colab": {},
    "colab_type": "code",
    "id": "PKYaWMjY9uF3"
   },
   "outputs": [],
   "source": []
  }
 ],
 "metadata": {
  "colab": {
   "name": "Decision_tree_part2.ipynb",
   "provenance": []
  },
  "kernelspec": {
   "display_name": "Python 3",
   "language": "python",
   "name": "python3"
  },
  "language_info": {
   "codemirror_mode": {
    "name": "ipython",
    "version": 3
   },
   "file_extension": ".py",
   "mimetype": "text/x-python",
   "name": "python",
   "nbconvert_exporter": "python",
   "pygments_lexer": "ipython3",
   "version": "3.7.3"
  }
 },
 "nbformat": 4,
 "nbformat_minor": 1
}
