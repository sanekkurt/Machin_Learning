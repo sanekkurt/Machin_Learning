{
 "cells": [
  {
   "cell_type": "markdown",
   "metadata": {},
   "source": [
    "# Решающее дерево"
   ]
  },
  {
   "cell_type": "markdown",
   "metadata": {},
   "source": [
    "Отметим, что решающее дерево состоит из вершин, в которых записывает некоторое условие, а в листах дерева - прогноз. Условия во внутренних вершинах выбираются простыми. Наиболее частый вариант - проверка лежит ли значение некоторого признака $x^j$ левее порога $t$:\n",
    "\n",
    "$[x^j \\leq t]$\n",
    "\n",
    "Легко заметить, что такое условие зависит только от одного признака. Прогноз в листе является вещественным числом, если решается задача регрессии. Если же решается задача классификации, то в качестве прогноза выступает или класс или распределение вероятностей классов.\n",
    "\n",
    "Запишем некоторую функцию ошибки следующим образом: есть набор данных $X_m$, есть номер рассматриваемого признака $j$ и есть порог $t$.\n",
    "\n",
    "$L(X_m, j, t) \\rightarrow \\underset{j,t}{min}$\n",
    "\n",
    "Осуществим перебор всех возможных признаков $j$ и порогов $t$ для этих признаков. Каждый раз исходное множество будет разбиваться на два подмножества:\n",
    "\n",
    "$X_l = \\{x \\in X_m | [ x^j \\leq t ] \\}$ и $X_к = \\{x \\in X_m | [ x^j > t ] \\}$\n",
    "\n",
    "Такую процедуру можно продолжить для каждого получившегося множества (рекурсивно вызывать функцию деления для получающихся подмножеств).\n",
    "\n",
    "Необходимо отметить, что если вершина была объявлена листом, необходимо сделать прогноз для этого листа. Для задачи регрессии берется среднее значение по этой выборке,\n",
    "для задачи классификации возвращается тот класс, которые наиболее популярен в выборке. Можно указывать вероятность классов в листе.\n",
    "\n",
    "Для каждого разбиения необходимо расчитывать функцию потерь:\n",
    "\n",
    "$L(X_m, j, t) = \\frac{|X_l|}{|X_m|}H(X_l) + \\frac{|X_r|}{|X_m|}H(X_r)$,\n",
    "\n",
    "где $H(X)=\\sum\\limits_{k=1}^{K} p_k(1 - p_k)$ - критерий информативности Джинни.\n",
    "\n",
    "$p_k$ - доля объектов класса $k$ в выборке X:\n",
    "\n",
    "$p_k=\\frac{1}{|X|}\\sum\\limits_{i \\in X}{[y_i = k]}$\n",
    "\n",
    "В задаче работаем только с числовыми данными и строим дерево классификации.\n",
    "\n",
    "Данные сгенерированы случайным образом."
   ]
  },
  {
   "cell_type": "code",
   "execution_count": 1,
   "metadata": {},
   "outputs": [
    {
     "data": {
      "text/plain": [
       "<matplotlib.collections.PathCollection at 0x7f6511483390>"
      ]
     },
     "execution_count": 1,
     "metadata": {},
     "output_type": "execute_result"
    },
    {
     "data": {
      "image/png": "[encoded data removed]",
      "text/plain": [
       "<Figure size 432x288 with 1 Axes>"
      ]
     },
     "metadata": {
      "needs_background": "light"
     },
     "output_type": "display_data"
    }
   ],
   "source": [
    "from sklearn.datasets import make_blobs, make_moons\n",
    "import matplotlib.pyplot as plt\n",
    "import numpy as np\n",
    "%matplotlib inline\n",
    "\n",
    "x, y = make_moons(n_samples=100, noise=0.1)\n",
    "plt.scatter(x[:,0], x[:,1], c = y)"
   ]
  },
  {
   "cell_type": "markdown",
   "metadata": {},
   "source": [
    "\n",
    "## Задание\n",
    "\n",
    "Напишите класс дерева, который реализует метод train, которая получает на вход матрицу данных ($x$) и целевые переменные ($y$), на выходе функция возвращает дерево в виде словаря в каждом случае записывается номер признака ($i$), порог разбиения($t$), значение в листовой вершине слева ($y_l$) и значение в листовой вершине справа ($y_r$). Вместо занчения в листовой вершине может содержаться следующий словарь с теми же ключами и так далее.\n",
    "\n",
    "Необходимо учесть:\n",
    "\n",
    "1. Возможность строить дерево строго определенной глубины и возможность указать максимальное количество объектов в листовой вершине.\n",
    "2. Пороги разбиения должны лежать строго по середине между ближайшими обектами.\n",
    "3. Разбиений не требуется, если в получившемся множестве находятся объекты одного класса.\n",
    "4. Количество различных классов объектов в целевой переменной может быть больше двух.\n"
   ]
  },
  {
   "cell_type": "code",
   "execution_count": 57,
   "metadata": {},
   "outputs": [],
   "source": [
    "class Tree:\n",
    "    def __init__(self, depth=1, max_num_leaf=1):\n",
    "        #code it\n",
    "        self.depth = depth\n",
    "        self.max_num_leaf = max_num_leaf\n",
    "        self.tree = {}\n",
    "#         self.cur_step = {'feature' : 0, 'threshold' : 0, 'left' : 0, 'right' : 1}\n",
    "        \n",
    "    def train(self, x, y):\n",
    "        #code it\n",
    "        self.tree = self.split(x, y, 1)\n",
    "    \n",
    "    def split(self, x, y, depth):\n",
    "        tree = {}\n",
    "        cur_loss = np.Inf\n",
    "        for it in range(x.shape[1]):\n",
    "            sort = np.sort(x[:,it])\n",
    "            thresholds = [(sort[i] + sort[i+1]) / 2 for i in range(len(sort) - 1)]\n",
    "            for thresh in thresholds:\n",
    "                l = self.loss(x, y, it, thresh)\n",
    "                if cur_loss > l:\n",
    "                    cur_loss = l\n",
    "                    tree['feature'] = it\n",
    "                    tree['threshold'] = thresh\n",
    "                    \n",
    "        x_l = x[x[:, tree['feature']] < tree['threshold']]\n",
    "        y_l = y[x[:, tree['feature']] < tree['threshold']]\n",
    "        x_r = x[x[:, tree['feature']] >= tree['threshold']]\n",
    "        y_r = y[x[:, tree['feature']] >= tree['threshold']]\n",
    "        \n",
    "        if depth == self.depth:\n",
    "            classes_l = set(y_l)\n",
    "            num_point_class_l = 0\n",
    "            class_l = None\n",
    "            classes_r = set(y_r)\n",
    "            num_point_class_r = 0\n",
    "            class_r = None\n",
    "            \n",
    "            for cl in classes_l:\n",
    "                if len(y_l[y_l == cl]) > num_point_class_l:\n",
    "                    tree['left'] = cl\n",
    "                    \n",
    "            for cl in classes_r:\n",
    "                if len(y_r[y_r == cl]) > num_point_class_l:\n",
    "                    tree['right'] = cl\n",
    "                    \n",
    "            return tree\n",
    "        \n",
    "        # добавить условия на количество элементов в листовой вершине\n",
    "        # добавить рекурсивный вызов для левой и правой подвыборок\n",
    "#         if len(set(y_l)) == 1:\n",
    "#             self.tree['left'] = set(y_l)[0]\n",
    "            \n",
    "            \n",
    "#         if len(set(y_r)) == 1:\n",
    "#             self.tree['right'] = set(y_l)[0]\n",
    "    \n",
    "    def predict(self, x):\n",
    "        #code it\n",
    "        # написать код для прохождения по словарю и предсказания точки\n",
    "        return\n",
    "    \n",
    "    def loss(self, x, y, i, t):\n",
    "        x_l = x[x[:,i] < t]\n",
    "        y_l = y[x[:,i] < t]\n",
    "        x_r = x[x[:,i] >= t]\n",
    "        y_r = y[x[:,i] >= t]\n",
    "        return len(x_l) / len(x) * self.gini(x_l, y_l) + len(x_r) / len(x) * self.gini(x_r, y_r)\n",
    "\n",
    "    def gini(self, x, y):\n",
    "        p0 = len(y[y == 0]) / len(y)\n",
    "        p1 = len(y[y == 1]) / len(y)\n",
    "        return p0*(1-p0) + p1*(1-p1)"
   ]
  },
  {
   "cell_type": "code",
   "execution_count": 58,
   "metadata": {},
   "outputs": [],
   "source": [
    "clf = Tree()"
   ]
  },
  {
   "cell_type": "code",
   "execution_count": 59,
   "metadata": {},
   "outputs": [],
   "source": [
    "clf.train(x, y)"
   ]
  },
  {
   "cell_type": "code",
   "execution_count": 60,
   "metadata": {},
   "outputs": [
    {
     "data": {
      "text/plain": [
       "{'feature': 1, 'threshold': 0.5202862642614419, 'left': 1, 'right': 0}"
      ]
     },
     "execution_count": 60,
     "metadata": {},
     "output_type": "execute_result"
    }
   ],
   "source": [
    "clf.tree"
   ]
  },
  {
   "cell_type": "markdown",
   "metadata": {},
   "source": [
    "Постройте решающее дерево с глубиной 1, 2 и 3.\n",
    "\n",
    "Визуализируйте получившиеся результаты классификатора на плоскости. Для этого воспользуйтесь кодом ниже, чтобы построить поверхность. $t$ - порог разбиения $i$ - номер признака."
   ]
  },
  {
   "cell_type": "code",
   "execution_count": 31,
   "metadata": {},
   "outputs": [
    {
     "data": {
      "text/plain": [
       "<matplotlib.collections.PathCollection at 0x7f650ac20ba8>"
      ]
     },
     "execution_count": 31,
     "metadata": {},
     "output_type": "execute_result"
    },
    {
     "data": {
      "image/png": "[encoded data removed]",
      "text/plain": [
       "<Figure size 432x288 with 1 Axes>"
      ]
     },
     "metadata": {
      "needs_background": "light"
     },
     "output_type": "display_data"
    }
   ],
   "source": [
    "def tree_clf(x):\n",
    "    y_pred = list()  \n",
    "    for it in x.transpose():\n",
    "        # Алгоритм классификации\n",
    "        if it[1] < 0.5192: \n",
    "            y_pred.append(0)\n",
    "        else:\n",
    "            y_pred.append(1)\n",
    "    return np.array(y_pred)\n",
    "\n",
    "\n",
    "h = .02\n",
    "x0_min, x0_max = np.min(x[:,0]) - 1, np.max(x[:,0]) + 1\n",
    "x1_min, x1_max = np.min(x[:,1]) - 1, np.max(x[:,1]) + 1\n",
    "xx0, xx1 = np.meshgrid(np.arange(x0_min, x0_max, h),\n",
    "                         np.arange(x1_min, x1_max, h))\n",
    "\n",
    "Z = tree_clf(np.stack((xx0.ravel(),xx1.ravel())))\n",
    "\n",
    "Z = Z.reshape(xx0.shape)\n",
    "cm = plt.cm.RdBu\n",
    "plt.contourf(xx0, xx1, Z, cmap=cm, alpha=.8)\n",
    "plt.scatter(x[:,0], x[:,1], c = y)\n"
   ]
  },
  {
   "cell_type": "markdown",
   "metadata": {},
   "source": [
    "Постройте дерево максимальной глубины для своих случайных данных."
   ]
  },
  {
   "cell_type": "code",
   "execution_count": null,
   "metadata": {},
   "outputs": [],
   "source": []
  }
 ],
 "metadata": {
  "kernelspec": {
   "display_name": "Python 3",
   "language": "python",
   "name": "python3"
  },
  "language_info": {
   "codemirror_mode": {
    "name": "ipython",
    "version": 3
   },
   "file_extension": ".py",
   "mimetype": "text/x-python",
   "name": "python",
   "nbconvert_exporter": "python",
   "pygments_lexer": "ipython3",
   "version": "3.7.3"
  }
 },
 "nbformat": 4,
 "nbformat_minor": 4
}
